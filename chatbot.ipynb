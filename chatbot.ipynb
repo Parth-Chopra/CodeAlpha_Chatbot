{
 "cells": [
  {
   "cell_type": "code",
   "execution_count": 1,
   "metadata": {},
   "outputs": [],
   "source": [
    "import nltk\n",
    "import spacy\n",
    "from sklearn.feature_extraction.text import TfidfVectorizer\n",
    "from sklearn.metrics.pairwise import cosine_similarity\n",
    "import numpy as np"
   ]
  },
  {
   "cell_type": "code",
   "execution_count": 2,
   "metadata": {},
   "outputs": [],
   "source": [
    "faqs = [\n",
    "    {\"question\": \"What is the return policy?\", \"answer\": \"You can return the product within 30 days of purchase.\"},\n",
    "    {\"question\": \"How do I track my order?\", \"answer\": \"You can track your order using the tracking number provided in the email.\"},\n",
    "    {\"question\": \"Do you offer international shipping?\", \"answer\": \"Yes, we offer international shipping to selected countries.\"},\n",
    "    {\"question\": \"What payment methods are accepted?\", \"answer\": \"We accept credit/debit cards, PayPal, and bank transfers.\"},\n",
    "    {\"question\": \"How can I contact customer service?\", \"answer\": \"You can contact customer service via email at support@example.com or call us at 123-456-7890.\"},\n",
    "    {\"question\": \"Can I change my shipping address after placing an order?\", \"answer\": \"Yes, you can change your shipping address within 24 hours of placing the order by contacting our customer service.\"},\n",
    "    {\"question\": \"Are there any discounts for bulk purchases?\", \"answer\": \"Yes, we offer discounts for bulk purchases. Please contact our sales team for more information.\"},\n",
    "    {\"question\": \"How do I reset my password?\", \"answer\": \"To reset your password, click on 'Forgot Password' on the login page and follow the instructions.\"},\n",
    "    {\"question\": \"What is the warranty period for your products?\", \"answer\": \"Our products come with a one-year warranty period from the date of purchase.\"},\n",
    "    {\"question\": \"Can I cancel my order?\", \"answer\": \"Yes, you can cancel your order within 24 hours of placing it by contacting our customer service.\"},\n",
    "    {\"question\": \"Do you offer gift wrapping services?\", \"answer\": \"Yes, we offer gift wrapping services at an additional cost. You can select this option during checkout.\"},\n",
    "    {\"question\": \"What should I do if I receive a damaged item?\", \"answer\": \"If you receive a damaged item, please contact our customer service within 48 hours of receiving the product for a replacement or refund.\"},\n",
    "    {\"question\": \"How long does shipping take?\", \"answer\": \"Shipping usually takes 5-7 business days for domestic orders and 10-15 business days for international orders.\"},\n",
    "    {\"question\": \"Can I return a product that was gifted to me?\", \"answer\": \"Yes, you can return a gifted product within 30 days of purchase. Please provide the original order number or the name of the purchaser.\"},\n",
    "    {\"question\": \"Do you provide installation services?\", \"answer\": \"Yes, we provide installation services for selected products. Please contact our customer service for more information.\"},\n",
    "    {\"question\": \"How do I apply a discount code?\", \"answer\": \"You can apply a discount code at checkout. Enter the code in the 'Discount Code' field and click 'Apply'.\"},\n",
    "    {\"question\": \"What is your privacy policy?\", \"answer\": \"Our privacy policy outlines how we handle your personal information. You can read it on our website under the 'Privacy Policy' section.\"},\n",
    "    {\"question\": \"Do you offer subscription services?\", \"answer\": \"Yes, we offer subscription services for certain products. You can sign up for a subscription on the product page.\"},\n",
    "    {\"question\": \"How can I leave a review?\", \"answer\": \"You can leave a review by going to the product page and clicking on 'Write a Review'.\"},\n",
    "    {\"question\": \"What currencies do you accept?\", \"answer\": \"We accept payments in USD, EUR, and GBP.\"},\n",
    "    {\"question\": \"Can I get a refund for a sale item?\", \"answer\": \"Sale items are eligible for refunds only if they are defective or damaged upon receipt.\"},\n",
    "    {\"question\": \"Do you have a physical store?\", \"answer\": \"Yes, we have physical stores located in several major cities. Please visit our 'Store Locator' page for more details.\"},\n",
    "    {\"question\": \"How do I subscribe to your newsletter?\", \"answer\": \"You can subscribe to our newsletter by entering your email address in the 'Subscribe' field at the bottom of our homepage.\"},\n",
    "    {\"question\": \"What should I do if I forgot my account login details?\", \"answer\": \"If you forgot your login details, click on 'Forgot Username' or 'Forgot Password' on the login page and follow the instructions.\"},\n",
    "    {\"question\": \"Can I get a custom-made product?\", \"answer\": \"Yes, we offer custom-made products. Please contact our customer service for more information and to discuss your requirements.\"}\n",
    "]\n"
   ]
  },
  {
   "cell_type": "code",
   "execution_count": 3,
   "metadata": {},
   "outputs": [],
   "source": [
    "nlp = spacy.load('en_core_web_sm')\n"
   ]
  },
  {
   "cell_type": "code",
   "execution_count": 4,
   "metadata": {},
   "outputs": [],
   "source": [
    "questions = [faq[\"question\"] for faq in faqs]\n"
   ]
  },
  {
   "cell_type": "code",
   "execution_count": 5,
   "metadata": {},
   "outputs": [],
   "source": [
    "vectorizer = TfidfVectorizer()\n",
    "X = vectorizer.fit_transform(questions)\n"
   ]
  },
  {
   "cell_type": "code",
   "execution_count": 6,
   "metadata": {},
   "outputs": [],
   "source": [
    "def get_answer(user_query):\n",
    "    user_query_vec = vectorizer.transform([user_query])\n",
    "    similarities = cosine_similarity(user_query_vec, X)\n",
    "    max_similarity_idx = np.argmax(similarities)\n",
    "    \n",
    "    if similarities[0][max_similarity_idx] < 0.2:\n",
    "        return \"I'm sorry, I don't understand your question.\"\n",
    "    \n",
    "    return faqs[max_similarity_idx][\"answer\"]\n"
   ]
  },
  {
   "cell_type": "code",
   "execution_count": 7,
   "metadata": {},
   "outputs": [
    {
     "name": "stdout",
     "output_type": "stream",
     "text": [
      "Welcome to the FAQ Chatbot. Type 'exit' to end the conversation.\n"
     ]
    },
    {
     "ename": "KeyboardInterrupt",
     "evalue": "Interrupted by user",
     "output_type": "error",
     "traceback": [
      "\u001b[1;31m---------------------------------------------------------------------------\u001b[0m",
      "\u001b[1;31mKeyboardInterrupt\u001b[0m                         Traceback (most recent call last)",
      "Cell \u001b[1;32mIn[7], line 11\u001b[0m\n\u001b[0;32m      8\u001b[0m         \u001b[38;5;28mprint\u001b[39m(\u001b[38;5;124mf\u001b[39m\u001b[38;5;124m\"\u001b[39m\u001b[38;5;124mBot: \u001b[39m\u001b[38;5;132;01m{\u001b[39;00mresponse\u001b[38;5;132;01m}\u001b[39;00m\u001b[38;5;124m\"\u001b[39m)\n\u001b[0;32m     10\u001b[0m \u001b[38;5;28;01mif\u001b[39;00m \u001b[38;5;18m__name__\u001b[39m \u001b[38;5;241m==\u001b[39m \u001b[38;5;124m\"\u001b[39m\u001b[38;5;124m__main__\u001b[39m\u001b[38;5;124m\"\u001b[39m:\n\u001b[1;32m---> 11\u001b[0m     \u001b[43mchat\u001b[49m\u001b[43m(\u001b[49m\u001b[43m)\u001b[49m\n",
      "Cell \u001b[1;32mIn[7], line 4\u001b[0m, in \u001b[0;36mchat\u001b[1;34m()\u001b[0m\n\u001b[0;32m      2\u001b[0m \u001b[38;5;28mprint\u001b[39m(\u001b[38;5;124m\"\u001b[39m\u001b[38;5;124mWelcome to the FAQ Chatbot. Type \u001b[39m\u001b[38;5;124m'\u001b[39m\u001b[38;5;124mexit\u001b[39m\u001b[38;5;124m'\u001b[39m\u001b[38;5;124m to end the conversation.\u001b[39m\u001b[38;5;124m\"\u001b[39m)\n\u001b[0;32m      3\u001b[0m \u001b[38;5;28;01mwhile\u001b[39;00m \u001b[38;5;28;01mTrue\u001b[39;00m:\n\u001b[1;32m----> 4\u001b[0m     user_query \u001b[38;5;241m=\u001b[39m \u001b[38;5;28;43minput\u001b[39;49m\u001b[43m(\u001b[49m\u001b[38;5;124;43m\"\u001b[39;49m\u001b[38;5;124;43mYou: \u001b[39;49m\u001b[38;5;124;43m\"\u001b[39;49m\u001b[43m)\u001b[49m\n\u001b[0;32m      5\u001b[0m     \u001b[38;5;28;01mif\u001b[39;00m user_query\u001b[38;5;241m.\u001b[39mlower() \u001b[38;5;241m==\u001b[39m \u001b[38;5;124m'\u001b[39m\u001b[38;5;124mexit\u001b[39m\u001b[38;5;124m'\u001b[39m:\n\u001b[0;32m      6\u001b[0m         \u001b[38;5;28;01mbreak\u001b[39;00m\n",
      "File \u001b[1;32mc:\\Users\\succe\\AppData\\Local\\Programs\\Python\\Python312\\Lib\\site-packages\\ipykernel\\kernelbase.py:1282\u001b[0m, in \u001b[0;36mKernel.raw_input\u001b[1;34m(self, prompt)\u001b[0m\n\u001b[0;32m   1280\u001b[0m     msg \u001b[38;5;241m=\u001b[39m \u001b[38;5;124m\"\u001b[39m\u001b[38;5;124mraw_input was called, but this frontend does not support input requests.\u001b[39m\u001b[38;5;124m\"\u001b[39m\n\u001b[0;32m   1281\u001b[0m     \u001b[38;5;28;01mraise\u001b[39;00m StdinNotImplementedError(msg)\n\u001b[1;32m-> 1282\u001b[0m \u001b[38;5;28;01mreturn\u001b[39;00m \u001b[38;5;28;43mself\u001b[39;49m\u001b[38;5;241;43m.\u001b[39;49m\u001b[43m_input_request\u001b[49m\u001b[43m(\u001b[49m\n\u001b[0;32m   1283\u001b[0m \u001b[43m    \u001b[49m\u001b[38;5;28;43mstr\u001b[39;49m\u001b[43m(\u001b[49m\u001b[43mprompt\u001b[49m\u001b[43m)\u001b[49m\u001b[43m,\u001b[49m\n\u001b[0;32m   1284\u001b[0m \u001b[43m    \u001b[49m\u001b[38;5;28;43mself\u001b[39;49m\u001b[38;5;241;43m.\u001b[39;49m\u001b[43m_parent_ident\u001b[49m\u001b[43m[\u001b[49m\u001b[38;5;124;43m\"\u001b[39;49m\u001b[38;5;124;43mshell\u001b[39;49m\u001b[38;5;124;43m\"\u001b[39;49m\u001b[43m]\u001b[49m\u001b[43m,\u001b[49m\n\u001b[0;32m   1285\u001b[0m \u001b[43m    \u001b[49m\u001b[38;5;28;43mself\u001b[39;49m\u001b[38;5;241;43m.\u001b[39;49m\u001b[43mget_parent\u001b[49m\u001b[43m(\u001b[49m\u001b[38;5;124;43m\"\u001b[39;49m\u001b[38;5;124;43mshell\u001b[39;49m\u001b[38;5;124;43m\"\u001b[39;49m\u001b[43m)\u001b[49m\u001b[43m,\u001b[49m\n\u001b[0;32m   1286\u001b[0m \u001b[43m    \u001b[49m\u001b[43mpassword\u001b[49m\u001b[38;5;241;43m=\u001b[39;49m\u001b[38;5;28;43;01mFalse\u001b[39;49;00m\u001b[43m,\u001b[49m\n\u001b[0;32m   1287\u001b[0m \u001b[43m\u001b[49m\u001b[43m)\u001b[49m\n",
      "File \u001b[1;32mc:\\Users\\succe\\AppData\\Local\\Programs\\Python\\Python312\\Lib\\site-packages\\ipykernel\\kernelbase.py:1325\u001b[0m, in \u001b[0;36mKernel._input_request\u001b[1;34m(self, prompt, ident, parent, password)\u001b[0m\n\u001b[0;32m   1322\u001b[0m \u001b[38;5;28;01mexcept\u001b[39;00m \u001b[38;5;167;01mKeyboardInterrupt\u001b[39;00m:\n\u001b[0;32m   1323\u001b[0m     \u001b[38;5;66;03m# re-raise KeyboardInterrupt, to truncate traceback\u001b[39;00m\n\u001b[0;32m   1324\u001b[0m     msg \u001b[38;5;241m=\u001b[39m \u001b[38;5;124m\"\u001b[39m\u001b[38;5;124mInterrupted by user\u001b[39m\u001b[38;5;124m\"\u001b[39m\n\u001b[1;32m-> 1325\u001b[0m     \u001b[38;5;28;01mraise\u001b[39;00m \u001b[38;5;167;01mKeyboardInterrupt\u001b[39;00m(msg) \u001b[38;5;28;01mfrom\u001b[39;00m \u001b[38;5;28;01mNone\u001b[39;00m\n\u001b[0;32m   1326\u001b[0m \u001b[38;5;28;01mexcept\u001b[39;00m \u001b[38;5;167;01mException\u001b[39;00m:\n\u001b[0;32m   1327\u001b[0m     \u001b[38;5;28mself\u001b[39m\u001b[38;5;241m.\u001b[39mlog\u001b[38;5;241m.\u001b[39mwarning(\u001b[38;5;124m\"\u001b[39m\u001b[38;5;124mInvalid Message:\u001b[39m\u001b[38;5;124m\"\u001b[39m, exc_info\u001b[38;5;241m=\u001b[39m\u001b[38;5;28;01mTrue\u001b[39;00m)\n",
      "\u001b[1;31mKeyboardInterrupt\u001b[0m: Interrupted by user"
     ]
    }
   ],
   "source": [
    "def chat():\n",
    "    print(\"Welcome to the FAQ Chatbot. Type 'exit' to end the conversation.\")\n",
    "    while True:\n",
    "        user_query = input(\"You: \")\n",
    "        if user_query.lower() == 'exit':\n",
    "            break\n",
    "        response = get_answer(user_query)\n",
    "        print(f\"Bot: {response}\")\n",
    "\n",
    "if __name__ == \"__main__\":\n",
    "    chat()\n"
   ]
  }
 ],
 "metadata": {
  "kernelspec": {
   "display_name": "Python 3",
   "language": "python",
   "name": "python3"
  },
  "language_info": {
   "codemirror_mode": {
    "name": "ipython",
    "version": 3
   },
   "file_extension": ".py",
   "mimetype": "text/x-python",
   "name": "python",
   "nbconvert_exporter": "python",
   "pygments_lexer": "ipython3",
   "version": "3.12.0"
  }
 },
 "nbformat": 4,
 "nbformat_minor": 2
}
